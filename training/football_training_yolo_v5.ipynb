{
 "cells": [
  {
   "cell_type": "markdown",
   "metadata": {},
   "source": [
    "# Get dataset\n",
    "https://universe.roboflow.com/roboflow-jvuqo/football-players-detection-3zvbc/dataset/1/download"
   ]
  },
  {
   "cell_type": "code",
   "execution_count": null,
   "metadata": {},
   "outputs": [],
   "source": [
    "from roboflow import Roboflow\n",
    "rf = Roboflow(api_key=\"iC3wOYdGSYwNTKyhSFUu\")\n",
    "project = rf.workspace(\"roboflow-jvuqo\").project(\"football-players-detection-3zvbc\")\n",
    "version = project.version(12)\n",
    "dataset = version.download(\"yolov5\", location=\"../data/training\")"
   ]
  },
  {
   "cell_type": "markdown",
   "metadata": {},
   "source": [
    "Moving files to another subfolder because otherwise our code will crash.\n"
   ]
  },
  {
   "cell_type": "code",
   "execution_count": 21,
   "metadata": {},
   "outputs": [],
   "source": [
    "import shutil\n",
    "import os\n",
    "\n",
    "if os.path.exists(\"../data/training/train\") and not os.path.exists(\"../data/training/data/training/train\"):\n",
    "    shutil.move(\"../data/training/train\", \"../data/training/data/training/train\")\n",
    "if os.path.exists(\"../data/training/valid\") and not os.path.exists(\"../data/training/data/training/valid\"):\n",
    "    shutil.move(\"../data/training/valid\", \"../data/training/data/training/valid\")\n",
    "if os.path.exists(\"../data/training/test\") and not os.path.exists(\"../data/training/data/training/test\"):\n",
    "    shutil.move(\"../data/training/test\", \"../data/training/data/training/test\")\n"
   ]
  },
  {
   "cell_type": "markdown",
   "metadata": {},
   "source": [
    "# Training"
   ]
  },
  {
   "cell_type": "code",
   "execution_count": null,
   "metadata": {},
   "outputs": [],
   "source": [
    "!yolo task=detect mode=train model=yolov5x.pt data={dataset.location}/data.yaml epochs=100 imgsz=640"
   ]
  }
 ],
 "metadata": {
  "kernelspec": {
   "display_name": "cv_venv",
   "language": "python",
   "name": "python3"
  },
  "language_info": {
   "codemirror_mode": {
    "name": "ipython",
    "version": 3
   },
   "file_extension": ".py",
   "mimetype": "text/x-python",
   "name": "python",
   "nbconvert_exporter": "python",
   "pygments_lexer": "ipython3",
   "version": "3.9.6"
  }
 },
 "nbformat": 4,
 "nbformat_minor": 2
}
