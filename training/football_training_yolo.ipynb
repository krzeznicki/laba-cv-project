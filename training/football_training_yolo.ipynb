{
 "cells": [
  {
   "cell_type": "markdown",
   "metadata": {},
   "source": [
    "# Install required packages"
   ]
  },
  {
   "cell_type": "markdown",
   "metadata": {},
   "source": [
    "<span style=\"color: yellow;\">To run training of our models we need to copy this file into google colab and run it there.</span> If you want to use it in other environment, you need to change the code."
   ]
  },
  {
   "cell_type": "code",
   "execution_count": 1,
   "metadata": {},
   "outputs": [],
   "source": [
    "!pip install -q ultralytics\n",
    "!pip install -q roboflow"
   ]
  },
  {
   "cell_type": "markdown",
   "metadata": {},
   "source": [
    "# Get dataset\n",
    "https://universe.roboflow.com/roboflow-jvuqo/football-players-detection-3zvbc/dataset/1/download"
   ]
  },
  {
   "cell_type": "code",
   "execution_count": null,
   "metadata": {},
   "outputs": [],
   "source": [
    "from roboflow import Roboflow\n",
    "rf = Roboflow(api_key=\"iC3wOYdGSYwNTKyhSFUu\")\n",
    "project = rf.workspace(\"roboflow-jvuqo\").project(\"football-players-detection-3zvbc\")\n",
    "version = project.version(12)\n",
    "dataset = version.download(\"yolov5\", location=\"../data/training\")"
   ]
  },
  {
   "cell_type": "markdown",
   "metadata": {},
   "source": [
    "Moving files to another subfolder because otherwise our code will crash.\n"
   ]
  },
  {
   "cell_type": "code",
   "execution_count": 3,
   "metadata": {},
   "outputs": [],
   "source": [
    "import shutil\n",
    "import os\n",
    "\n",
    "if os.path.exists(\"../data/training/train\") and not os.path.exists(\"../data/training/data/training/train\"):\n",
    "    shutil.move(\"../data/training/train\", \"../data/training/data/training/train\")\n",
    "if os.path.exists(\"../data/training/valid\") and not os.path.exists(\"../data/training/data/training/valid\"):\n",
    "    shutil.move(\"../data/training/valid\", \"../data/training/data/training/valid\")\n",
    "if os.path.exists(\"../data/training/test\") and not os.path.exists(\"../data/training/data/training/test\"):\n",
    "    shutil.move(\"../data/training/test\", \"../data/training/data/training/test\")\n"
   ]
  },
  {
   "cell_type": "markdown",
   "metadata": {},
   "source": [
    "# Training"
   ]
  },
  {
   "cell_type": "markdown",
   "metadata": {},
   "source": [
    "First we will create a functions that will help us to train our models"
   ]
  },
  {
   "cell_type": "markdown",
   "metadata": {},
   "source": [
    "### Train yolo model"
   ]
  },
  {
   "cell_type": "code",
   "execution_count": 4,
   "metadata": {},
   "outputs": [],
   "source": [
    "import torch\n",
    "from ultralytics import YOLO\n",
    "\n",
    "\n",
    "def train_yolo(model_name, epochs, imgsz, train_folder = None, gpu = True):\n",
    "    \"\"\"\n",
    "    This function trains a YOLO model using the specified parameters.\n",
    "\n",
    "    Parameters:\n",
    "    model_name (str): The name of the model to be trained.\n",
    "    epochs (int): The number of training epochs.\n",
    "    imgsz (int or tuple): The size of the images for training.\n",
    "    train_folder (str, optional): The folder where the training results will be saved. Defaults to None.\n",
    "    gpu (bool, optional): Flag to indicate whether to use GPU for training. Defaults to True.\n",
    "\n",
    "    Raises:\n",
    "    SystemError: If GPU is not available and gpu is set to True.\n",
    "    \"\"\"\n",
    "    # Check if GPU is available\n",
    "    if not torch.cuda.is_available() and gpu:\n",
    "        raise SystemError('GPU device not found')\n",
    "    yolo = YOLO(model_name)\n",
    "    yolo.train(data=f'{dataset.location}/data.yaml', epochs=epochs, imgsz=imgsz, project=train_folder, name=model_name, exist_ok=True)\n",
    "    \n",
    "\n"
   ]
  },
  {
   "cell_type": "markdown",
   "metadata": {},
   "source": [
    "### copy trained model weights and all run files to google drive\n",
    "This function will copy all the files from the run folder to the google drive."
   ]
  },
  {
   "cell_type": "code",
   "execution_count": 5,
   "metadata": {},
   "outputs": [],
   "source": [
    "import shutil\n",
    "import os\n",
    "try:\n",
    "    # Sprawdzenie, czy jesteśmy w Google Colab\n",
    "    from google.colab import drive\n",
    "    in_colab = True\n",
    "except ImportError:\n",
    "    in_colab = False\n",
    "\n",
    "\n",
    "\n",
    "def copy_to_drive(source_folder, destination_folder):\n",
    "    if not in_colab:\n",
    "        raise SystemError('You can copy files to drive only in Google Colab')\n",
    "    drive.mount('/content/drive')\n",
    "\n",
    "    # Create the destination folder if it doesn't exist\n",
    "    os.makedirs(destination_folder, exist_ok=True)\n",
    "\n",
    "    # Copy the entire folder recursively\n",
    "    try:\n",
    "        shutil.copytree(source_folder, destination_folder, dirs_exist_ok=True)\n",
    "        print(f\"Successfully copied '{source_folder}' to '{destination_folder}'\")\n",
    "    except Exception as e:\n",
    "        print(f\"Error copying folder: {e}\")\n",
    "    drive.flush_and_unmount()"
   ]
  },
  {
   "cell_type": "markdown",
   "metadata": {},
   "source": [
    "We want to train and compare 3 different versions of YOLO - yolov5x, yolov8x and yolov11x."
   ]
  },
  {
   "cell_type": "code",
   "execution_count": null,
   "metadata": {},
   "outputs": [],
   "source": [
    "project_name = \"football_analysis\"\n",
    "\n",
    "# models = [\"yolov5x.pt\", \"yolov8x.pt\", \"yolov11x.pt\"]\n",
    "models = [\"yolov5nu.pt\"]\n",
    "epochs = 100\n",
    "imgsz = 640\n",
    "train_folder = \"../runs/train/\" + project_name\n",
    "results_folder = \"/content/drive/MyDrive/Colab/\" + project_name\n",
    "\n",
    "for model in models:\n",
    "    train_folder = train_folder + \"/\" + model\n",
    "    train_yolo(model_name=model, epochs=epochs, imgsz=imgsz, train_folder=train_folder)\n",
    "    destination_folder = results_folder + \"/\" + model\n",
    "    copy_to_drive(source_folder=train_folder, destination_folder=destination_folder)\n",
    "\n"
   ]
  },
  {
   "cell_type": "markdown",
   "metadata": {},
   "source": [
    "### Models comparison\n",
    "\n",
    "We compare the models by their mAP50 and mAP50-95 metrics"
   ]
  },
  {
   "cell_type": "code",
   "execution_count": null,
   "metadata": {},
   "outputs": [],
   "source": [
    "import os\n",
    "import pandas as pd\n",
    "import matplotlib.pyplot as plt\n",
    "import numpy as np\n",
    "\n",
    "results = []\n",
    "models = [\"yolo5x\", \"yolo8x\"]\n",
    "results_folder = \"../runs/train/\"\n",
    "\n",
    "for model in models:\n",
    "    results_file = os.path.join(results_folder, model, \"results.csv\")\n",
    "    print(results_file)\n",
    "    \n",
    "    if os.path.exists(results_file):\n",
    "        df = pd.read_csv(results_file)\n",
    "        \n",
    "        # Extracting results from the last epoch\n",
    "        last_epoch = df.iloc[-1]\n",
    "        mAP50 = last_epoch['metrics/mAP50(B)']\n",
    "        mAP50_95 = last_epoch['metrics/mAP50-95(B)']\n",
    "        results.append((model, mAP50, mAP50_95))\n",
    "\n",
    " # Prepare data for plotting\n",
    "labels = ['mAP50', 'mAP50-95']\n",
    "values = [result[1:] for result in results]  # Extract mAP50 and mAP50-95 values\n",
    "values = np.array(values)\n",
    "\n",
    "# Set up the bar width and positions\n",
    "bar_width = 0.35\n",
    "x = np.arange(len(labels))\n",
    "\n",
    "# Create the bar plot\n",
    "fig, ax = plt.subplots()\n",
    "for i, (model, mAP50, mAP50_95) in enumerate(results):\n",
    "        bars = ax.bar(x + i * bar_width, [mAP50, mAP50_95], bar_width, label=model)\n",
    "        # Display the value on top of the bars\n",
    "        for bar in bars:\n",
    "            yval = bar.get_height()\n",
    "            ax.text(bar.get_x() + bar.get_width()/2, yval, round(yval, 3), ha='center', va='bottom')\n",
    "\n",
    "# Add labels and title\n",
    "ax.set_xlabel('Metrics')\n",
    "ax.set_ylabel('Values')\n",
    "ax.set_title('Comparison of mAP50 and mAP50-95 for different models')\n",
    "ax.set_xticks(x + bar_width / 2)\n",
    "ax.set_xticklabels(labels)\n",
    "ax.legend()\n",
    "\n",
    "# Show the plot\n",
    "plt.tight_layout()\n",
    "plt.show()\n"
   ]
  }
 ],
 "metadata": {
  "kernelspec": {
   "display_name": "cv_venv",
   "language": "python",
   "name": "python3"
  },
  "language_info": {
   "codemirror_mode": {
    "name": "ipython",
    "version": 3
   },
   "file_extension": ".py",
   "mimetype": "text/x-python",
   "name": "python",
   "nbconvert_exporter": "python",
   "pygments_lexer": "ipython3",
   "version": "3.9.6"
  }
 },
 "nbformat": 4,
 "nbformat_minor": 2
}
