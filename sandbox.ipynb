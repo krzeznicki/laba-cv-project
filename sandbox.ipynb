{
 "cells": [
  {
   "cell_type": "markdown",
   "metadata": {},
   "source": [
    "# Sandbox\n",
    "I use sample materials to test the model\n",
    "You can download [football_mp4 here](https://www.youtube.com/redirect?event=video_description&redir_token=QUFFLUhqbHdObnVhcGRxak9zTnF6Z0FLeFlhMmU3SlZuUXxBQ3Jtc0tuc1JhTjVodlhoNnZhbWV3c3lNMlpYcW9mM1ByNlp1RXdDakduWlJpSmxCaXRyVno1bEluYlE4V1J6RUlxcUxRQ1FhMWkzZ0pzWl80RWJMN19uLTVTN2Z6NUVvY3VGdTd0R1J2SDJMR2xpcmRsb085QQ&q=https%3A%2F%2Fdrive.google.com%2Ffile%2Fd%2F1t6agoqggZKx6thamUuPAIdN_1zR9v9S_%2Fview%3Fusp%3Dsharing&v=neBZ6huolkg)"
   ]
  },
  {
   "cell_type": "markdown",
   "metadata": {},
   "source": [
    "## TODO\n",
    "Our models are good in detecting players, but they are terrible in detecting ball.\n",
    "We need to train the model on another dataset with more ball images:\n",
    "https://universe.roboflow.com/roboflow-jvuqo/football-ball-detection-rejhg\n",
    "\n",
    "Below is a code to download more sample videos:"
   ]
  },
  {
   "cell_type": "code",
   "execution_count": null,
   "metadata": {},
   "outputs": [],
   "source": [
    "path = \"data/input_videos\"\n",
    "\n",
    "!gdown -O \"{path}/football_02.mp4\" \"https://drive.google.com/file/d/1t6agoqggZKx6thamUuPAIdN_1zR9v9S\"\n",
    "!gdown -O \"{path}/football_03.mp4\" \"https://drive.google.com/uc?id=12TqauVZ9tLAv8kWxTTBFWtgt2hNQ4_ZF\"\n",
    "!gdown -O \"{path}/football_04.mp4\" \"https://drive.google.com/uc?id=19PGw55V8aA6GZu5-Aac5_9mCy3fNxmEf\"\n",
    "!gdown -O \"{path}/football_05.mp4\" \"https://drive.google.com/uc?id=1OG8K6wqUw9t7lp9ms1M48DxRhwTYciK-\"\n",
    "!gdown -O \"{path}/football_06.mp4\" \"https://drive.google.com/uc?id=1yYPKuXbHsCxqjA9G-S6aeR2Kcnos8RPU\"\n",
    "!gdown -O \"{path}/football_07.mp4\" \"https://drive.google.com/uc?id=1vVwjW1dE1drIdd4ZSILfbCGPD4weoNiu\""
   ]
  },
  {
   "cell_type": "code",
   "execution_count": 3,
   "metadata": {},
   "outputs": [],
   "source": [
    "#sample materials\n",
    "football_mp4 = 'data/input_videos/football_01.mp4'\n",
    "esa_mov = 'data/input_videos/esa_01.mov'\n"
   ]
  },
  {
   "cell_type": "code",
   "execution_count": null,
   "metadata": {},
   "outputs": [],
   "source": [
    "from ultralytics import YOLO\n",
    "\n",
    "# Load YOLO model\n",
    "model = YOLO('data/models/yolov8/best.pt')\n",
    "\n",
    "predictions = model.predict(source=football_mp4, save=True)\n",
    "\n",
    "print(predictions[0])\n",
    "\n",
    "for box in predictions[0].boxes:\n",
    "    print(box)\n",
    "\n"
   ]
  }
 ],
 "metadata": {
  "kernelspec": {
   "display_name": "laba_env",
   "language": "python",
   "name": "python3"
  },
  "language_info": {
   "codemirror_mode": {
    "name": "ipython",
    "version": 3
   },
   "file_extension": ".py",
   "mimetype": "text/x-python",
   "name": "python",
   "nbconvert_exporter": "python",
   "pygments_lexer": "ipython3",
   "version": "3.9.6"
  }
 },
 "nbformat": 4,
 "nbformat_minor": 2
}
